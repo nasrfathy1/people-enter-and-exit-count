{
 "cells": [
  {
   "cell_type": "code",
   "execution_count": 1,
   "id": "b0d14291",
   "metadata": {},
   "outputs": [],
   "source": [
    "from ultralytics import YOLO\n",
    "import supervision as sv\n",
    "\n",
    "import os\n",
    "import cv2\n",
    "os.chdir(r'D:\\Motion-Detection-and-Tracking-Using-Opencv-main\\YOLO\\yolov8')\n",
    "import numpy as np\n"
   ]
  },
  {
   "cell_type": "code",
   "execution_count": 2,
   "id": "ca635f69",
   "metadata": {},
   "outputs": [],
   "source": [
    "model=YOLO('yolov8n.pt')"
   ]
  },
  {
   "cell_type": "code",
   "execution_count": null,
   "id": "52783df7",
   "metadata": {},
   "outputs": [
    {
     "name": "stderr",
     "output_type": "stream",
     "text": [
      "\n",
      "0: 480x640 (no detections), 541.0ms\n",
      "Speed: 10.0ms preprocess, 541.0ms inference, 6.0ms postprocess per image at shape (1, 3, 480, 640)\n",
      "C:\\Users\\5g\\AppData\\Local\\Temp\\ipykernel_12444\\3242715585.py:21: DeprecationWarning: from_yolov8 is deprecated: This method is deprecated and removed in 0.15.0 release. Use sv.Detections.from_ultralytics() instead.\n",
      "  detections=sv.Detections.from_yolov8(result)\n",
      "\n",
      "0: 480x640 (no detections), 523.0ms\n",
      "Speed: 18.0ms preprocess, 523.0ms inference, 5.0ms postprocess per image at shape (1, 3, 480, 640)\n",
      "\n",
      "0: 480x640 (no detections), 493.9ms\n",
      "Speed: 8.0ms preprocess, 493.9ms inference, 5.0ms postprocess per image at shape (1, 3, 480, 640)\n",
      "\n",
      "0: 480x640 (no detections), 615.9ms\n",
      "Speed: 9.0ms preprocess, 615.9ms inference, 6.0ms postprocess per image at shape (1, 3, 480, 640)\n",
      "\n",
      "0: 480x640 1 person, 628.0ms\n",
      "Speed: 9.0ms preprocess, 628.0ms inference, 7.0ms postprocess per image at shape (1, 3, 480, 640)\n",
      "\n",
      "0: 480x640 2 persons, 517.9ms\n",
      "Speed: 11.1ms preprocess, 517.9ms inference, 6.0ms postprocess per image at shape (1, 3, 480, 640)\n",
      "\n",
      "0: 480x640 2 persons, 498.0ms\n",
      "Speed: 8.0ms preprocess, 498.0ms inference, 6.0ms postprocess per image at shape (1, 3, 480, 640)\n"
     ]
    }
   ],
   "source": [
    "w,h=640,480\n",
    "labels=model.names\n",
    "cap=cv2.VideoCapture('peoplecount1.mp4')\n",
    "area1=np.array([[213,390],[202,394],[260,434],[279,434]])\n",
    "area2=np.array([[230,434],[239,430], [192,398],[175,401]])\n",
    "zones=[area1,area2]\n",
    "font=cv2.FONT_HERSHEY_COMPLEX\n",
    "byte_track=sv.ByteTrack()\n",
    "enter=set()\n",
    "exit=set()\n",
    "enter_count=0\n",
    "exit_count=0\n",
    "forcc=cv2.VideoWriter_fourcc(*'XVID')\n",
    "out=cv2.VideoWriter('people enter and exit count.mp4',forcc,20.0,(w,h))\n",
    "while cap.isOpened():\n",
    "    _,frame=cap.read()\n",
    "    frame=cv2.resize(frame,(w,h))\n",
    "    cv2.polylines(frame,[area1],True,(0,255,0),2)\n",
    "    cv2.polylines(frame,[area2],True,(0,255,0),2)\n",
    "    result=model(frame)[0]\n",
    "    detections=sv.Detections.from_yolov8(result)\n",
    "    detections=detections[detections.class_id==0]\n",
    "    detections=byte_track.update_with_detections(detections)\n",
    "    if detections.tracker_id is not None :\n",
    "        for box ,idx in zip (detections.xyxy,detections.tracker_id):\n",
    "            x1,y1,x2,y2=[int(box[0]),int(box[1]),int(box[2]),int(box[3])]\n",
    "            #cx,cy=(x1+x2)/2,(y1+y2)/2\n",
    "\n",
    "            res1=cv2.pointPolygonTest(area2,(x2,y2),False)\n",
    "            res2=cv2.pointPolygonTest(area1,(x2,y2),False)\n",
    "\n",
    "            if res1>0:\n",
    "                if idx not in exit:\n",
    "                    enter_count+=1\n",
    "                    exit.add(idx)\n",
    "                    enter.add(idx)\n",
    "                cv2.rectangle(frame,(x1,y1),(x2,y2),(255,0,0),2)\n",
    "\n",
    "            if res2>0:\n",
    "                if idx not in enter:\n",
    "                    exit_count+=1\n",
    "                    enter.add(idx)\n",
    "                    exit.add(idx)\n",
    "                cv2.rectangle(frame,(x1,y1),(x2,y2),(255,0,0),2)\n",
    "\n",
    "\n",
    "\n",
    "    cv2.putText(frame,f'Count of people enter :{str(enter_count)}',(30,30),font,.5,(255,0,0),2)\n",
    "    cv2.putText(frame,f'Count of people exite :{str(exit_count)}',(30,50),font,.5,(255,0,0),2)\n",
    "    out.write(frame)\n",
    "    cv2.imshow('image',frame)\n",
    "    if cv2.waitKey(1)==27:\n",
    "        break\n",
    "out.release()\n",
    "cap.release()\n",
    "cv2.destroyAllWindows()"
   ]
  },
  {
   "cell_type": "code",
   "execution_count": null,
   "id": "91699220",
   "metadata": {},
   "outputs": [],
   "source": []
  }
 ],
 "metadata": {
  "kernelspec": {
   "display_name": "Python 3 (ipykernel)",
   "language": "python",
   "name": "python3"
  },
  "language_info": {
   "codemirror_mode": {
    "name": "ipython",
    "version": 3
   },
   "file_extension": ".py",
   "mimetype": "text/x-python",
   "name": "python",
   "nbconvert_exporter": "python",
   "pygments_lexer": "ipython3",
   "version": "3.10.9"
  }
 },
 "nbformat": 4,
 "nbformat_minor": 5
}
